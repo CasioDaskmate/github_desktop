{
 "cells": [
  {
   "attachments": {},
   "cell_type": "markdown",
   "metadata": {},
   "source": [
    "调包"
   ]
  },
  {
   "cell_type": "code",
   "execution_count": null,
   "metadata": {},
   "outputs": [],
   "source": [
    "import cv2 as cv\n",
    "import argparse\n",
    "from random import randint\n",
    "import time\n",
    "import os"
   ]
  },
  {
   "cell_type": "code",
   "execution_count": null,
   "metadata": {},
   "outputs": [],
   "source": [
    "parser = argparse.ArgumentParser(description='')\n",
    "parser.add_argument('--input', type=str, help='Path to a video or a sequence of image.', default = 'E:/科研/视频和分析_11.6/20221103/00116.MTS')\n",
    "args = parser.parse_args()"
   ]
  },
  {
   "attachments": {},
   "cell_type": "markdown",
   "metadata": {},
   "source": [
    "初始化"
   ]
  },
  {
   "cell_type": "code",
   "execution_count": null,
   "metadata": {},
   "outputs": [],
   "source": [
    "vecPoints = []\n",
    "bboxes = []\n",
    "colors = []\n",
    "\n",
    "video = cv.VideoCapture(cv.samples.findFileOrKeep(args.input))"
   ]
  },
  {
   "attachments": {},
   "cell_type": "markdown",
   "metadata": {},
   "source": [
    "完成输出设置"
   ]
  },
  {
   "cell_type": "code",
   "execution_count": null,
   "metadata": {},
   "outputs": [],
   "source": [
    "time_t = time.strftime('%Y.%m.%d %H-%M-%S', time.localtime(time.time()))\n",
    "outDir = 'E:/科研/视频和分析_' + time_t\n",
    "os.mkdir(outDir)\n",
    "outFile_1 = outDir + '\\\\videoTracker.avi'\n",
    "s = (int(video.get(cv.CAP_PROP_FRAME_WIDTH)), int(video.get(cv.CAP_PROP_FRAME_HEIGHT)))\n",
    "r = video.get(cv.CAP_PROP_FPS)\n",
    "write = cv.VideoWriter(outFile_1, 0, r, (520,500), True)"
   ]
  },
  {
   "cell_type": "code",
   "execution_count": null,
   "metadata": {},
   "outputs": [],
   "source": [
    "print('>> 请按空格开始截取图片')\n",
    "\n",
    "while True:\n",
    "    success, frame = video.read()\n",
    "    frame = frame[520:1060,160:700]\n",
    "    cv.imshow('Tracker', frame)\n",
    "    write.write(frame)\n",
    "    if cv.waitKey(1) == ord(' '):\n",
    "        break"
   ]
  },
  {
   "cell_type": "code",
   "execution_count": null,
   "metadata": {},
   "outputs": [],
   "source": [
    "while True:\n",
    "    # draw bounding boxes over objects\n",
    "    # selectROI's default behaviour is to draw box starting from the center\n",
    "    # when fromCenter is set to false, you can draw box starting from top left corner\n",
    "    bbox = cv.selectROI('Tracker', frame)\n",
    "    bboxes.append(bbox)\n",
    "    colors.append((randint(64, 255), randint(64, 255), randint(64, 255)))\n",
    "    print(\"Press q to quit selecting boxes and start tracking\")\n",
    "    print(\"Press any other key to select next object\")\n",
    "    k = cv.waitKey(0) & 0xFF\n",
    "    if (k == 113):  # q is pressed\n",
    "        break"
   ]
  },
  {
   "cell_type": "code",
   "execution_count": null,
   "metadata": {},
   "outputs": [],
   "source": [
    "# Create MultiTracker object\n",
    "multiTracker = cv.legacy.MultiTracker.create()"
   ]
  },
  {
   "cell_type": "code",
   "execution_count": null,
   "metadata": {},
   "outputs": [],
   "source": [
    "# Initialize MultiTracker\n",
    "for bbox in bboxes:\n",
    "    multiTracker.add(cv.legacy.TrackerBoosting_create(), frame, bbox)\n",
    "    temp = []\n",
    "    vecPoints.append(temp)\n",
    "\n",
    "    # Process video and track objects\n",
    "    while video.isOpened():\n",
    "        success, frame = video.read()\n",
    "        frame = frame[520:1060,160:700]\n",
    "        if not success:\n",
    "            break\n",
    " \n",
    "        print('before-' + str(id(frame)))\n",
    " \n",
    "        # get updated location of objects in subsequent frames\n",
    "        success, boxes = multiTracker.update(frame)\n",
    " \n",
    "        # draw tracked objects\n",
    "        for i, newbox in enumerate(boxes):\n",
    "            p1 = (int(newbox[0]), int(newbox[1]))\n",
    "            p2 = (int(newbox[0] + newbox[2]), int(newbox[1] + newbox[3]))\n",
    "            # 画框，cv.rectangle(img, 坐标1, 坐标2, color, 边框宽度)\n",
    "            cv.rectangle(frame, p1, p2, colors[i], 2, 1)\n",
    "\n",
    "        for i, newbox in enumerate(boxes):\n",
    "            # 标出画线位置的点\n",
    "            vecPoints[i].append((int(newbox[0] + (newbox[2] * 0.5)) * 2, int(newbox[1] + (newbox[3] * 0.5)) * 2))\n",
    "        if len(vecPoints) > 0:\n",
    "            for i in range(len(vecPoints)):\n",
    "                for j in range(len(vecPoints[i]) - 1):\n",
    "                    # 画线，cv.line(img, pt1, pt2, color, thickness, lineType, shift)\n",
    "                    # pt1是开始的点，pt2是结束的点\n",
    "                    cv.line(frame, vecPoints[i][j], vecPoints[i][j + 1], colors[i], 2, 8, 1)\n",
    "                    \n",
    "        for i, newbox in enumerate(boxes):\n",
    "            cv.putText(frame, 'id_' + str(i + 1), (int(newbox[0]), int(newbox[1]) - 3), cv.FONT_HERSHEY_PLAIN,1, colors[i], 1)\n",
    "             \n",
    "        # show frame    \n",
    "        write.write(frame)                   \n",
    "        cv.imshow('Tracker', frame)            \n",
    "        \n",
    "        print('after-' + str(id(frame)))\n",
    "        \n",
    "        # quit on ESC button\n",
    "        if cv.waitKey(1) == ord('q'):\n",
    "            break"
   ]
  }
 ],
 "metadata": {
  "language_info": {
   "name": "python"
  },
  "orig_nbformat": 4
 },
 "nbformat": 4,
 "nbformat_minor": 2
}
